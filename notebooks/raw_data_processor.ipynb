{
 "cells": [
  {
   "cell_type": "code",
   "execution_count": 1,
   "metadata": {},
   "outputs": [
    {
     "name": "stdout",
     "output_type": "stream",
     "text": [
      "Unparseable dates: ['2020-05-22 00:00:00' '2020-05-21 00:00:00' '2020-05-18 00:00:00' ...\n",
      " '2012-02-18 00:00:00' '2010-02-07 00:00:00' '2017-08-26 00:00:00']\n",
      "Cleaned data saved to data/processed/clean_analyst_ratings.csv\n"
     ]
    }
   ],
   "source": [
    "import pandas as pd\n",
    "\n",
    "# 1. Load the raw data (no validation)\n",
    "df_raw = pd.read_csv(\"../data/raw/raw_analyst_ratings.csv\")\n",
    "\n",
    "# 2. Try to parse the date column\n",
    "parsed_dates = pd.to_datetime(df_raw['date'], errors='coerce')\n",
    "\n",
    "# 3. Find and print problematic dates\n",
    "bad_dates = df_raw.loc[parsed_dates.isnull(), 'date'].unique()\n",
    "print(\"Unparseable dates:\", bad_dates)\n",
    "\n",
    "# 4. Drop rows with unparseable dates\n",
    "df_clean = df_raw[parsed_dates.notnull()].copy()\n",
    "df_clean['date'] = pd.to_datetime(df_clean['date'], errors='coerce')\n",
    "\n",
    "# 5. (Optional) Drop rows with missing values in critical columns\n",
    "df_clean = df_clean.dropna(subset=['headline', 'stock', 'date'])\n",
    "\n",
    "# 6. Save the cleaned data\n",
    "df_clean.to_csv(\"../data/processed/clean_analyst_ratings.csv\", index=False)\n",
    "print(\"Cleaned data saved to data/processed/clean_analyst_ratings.csv\")\n"
   ]
  }
 ],
 "metadata": {
  "kernelspec": {
   "display_name": ".venv",
   "language": "python",
   "name": "python3"
  },
  "language_info": {
   "codemirror_mode": {
    "name": "ipython",
    "version": 3
   },
   "file_extension": ".py",
   "mimetype": "text/x-python",
   "name": "python",
   "nbconvert_exporter": "python",
   "pygments_lexer": "ipython3",
   "version": "3.8.18"
  }
 },
 "nbformat": 4,
 "nbformat_minor": 2
}
